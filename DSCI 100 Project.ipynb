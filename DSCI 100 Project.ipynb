{
 "cells": [
  {
   "cell_type": "markdown",
   "id": "91411f60-bb0b-48e0-aeb7-e78685dcdb1a",
   "metadata": {},
   "source": [
    "**Introduction**"
   ]
  },
  {
   "cell_type": "markdown",
   "id": "b30062ee-6929-41bc-abf5-d6857c98adae",
   "metadata": {},
   "source": [
    "In online multiplayer games, not all players engage at the same level. Some log in for quick sessions, while others contribute much more by playing consistently and for longer periods. Game developers and researchers want to understand what factors drive player engagement so they can design better experiences and boost engagement. In particular, characteristics like a player's age and game experience might influence how actively they participate. \n",
    "\n",
    "In this project, we explore data collected from Plaicraft, a Minecraft research server created by the PLAI research group in the UBC Department of Computer Science, led by Professor Frank Wood. The objective of running Plaicraft is to obtain human gameplay data to train artificial general intelligence (AGI) agents for video games (Smith, 2025). The provided dataset includes logs of player sessions and basic player information, allowing us to analyze how individual characteristics relate to gaming behaviours.\n",
    "\n",
    "\n",
    "Our research question is: Can a player’s game experience and age help predict if they’ll be a high contributor (i.e., someone who plays more than half an hour)? Identifying high contributors is important because they will generate richer gameplay data that researchers can use to train AGI models.\n",
    "\n",
    "Dataset Description:\n",
    "\n",
    "The given dataset is made up of two structured files:\n",
    "\n",
    "*players.csv* - Contains information of 197 unique players and includes the 7 following variables:\n",
    "- experience: categorical, self-reported skill level (Pro, Veteran, Regular, Amateur)\n",
    "- subscribe: Boolean, whether the player subscribed to the server newsletter\n",
    "- hashedEmail: identifier, anonymized unique player ID\n",
    "- played_hours: numeric, total hours the player has spent in-game\n",
    "- name: string, player's chosen username\n",
    "- gender: categorical, player's gender identity (Male, Female, Non-binary etc)\n",
    "- Age: numeric, player's age in years \n",
    "\n",
    "\n",
    "*sessions.csv* - Contains 1536 individual gameplay sessions with the 5 following variables:\n",
    "- hashedEmail: identifier, anonymized unique player ID\n",
    "- start_time and end_time: start and end of each gameplay session\n",
    "- original_start_time and original_end_time: unix epoch timestaps\n",
    "\n",
    "\n",
    "Player characteristics (e.g., age, experience, and gender) were self-reported, while gameplay sessions were recorded automatically through screen monitoring. Consequently, there may be some subjectivity or inaccuracy in self-reported variables, especially in categorical fields like experience. However, since the game server automatically disconnected players who were inactive for more than 3 minutes, we can be confident that the recorded playtime is reliable.\n",
    "\n",
    "For this project, we focus on the players.csv file, since it contains the variables needed to evaluate how player characteristics relate to total playtime, which we use to determine if a player is a high contributor.\n",
    "\n",
    "\n",
    "player csv link https://raw.githubusercontent.com/ashleyan1207/DSCI-100-Project/refs/heads/main/players.csv\n",
    "\n",
    "sessions csv link https://raw.githubusercontent.com/ashleyan1207/DSCI-100-Project/refs/heads/main/sessions.csv"
   ]
  },
  {
   "cell_type": "code",
   "execution_count": null,
   "id": "a7e01e61-5484-41f5-9e8c-7a11f6f478f6",
   "metadata": {},
   "outputs": [],
   "source": []
  }
 ],
 "metadata": {
  "kernelspec": {
   "display_name": "R",
   "language": "R",
   "name": "ir"
  },
  "language_info": {
   "codemirror_mode": "r",
   "file_extension": ".r",
   "mimetype": "text/x-r-source",
   "name": "R",
   "pygments_lexer": "r",
   "version": "4.3.3"
  }
 },
 "nbformat": 4,
 "nbformat_minor": 5
}
